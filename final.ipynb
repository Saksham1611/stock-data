{
 "cells": [
  {
   "cell_type": "code",
   "execution_count": 13,
   "id": "4568e70c",
   "metadata": {},
   "outputs": [],
   "source": [
    "#import libraries\n",
    "import urllib , json , requests\n",
    "import pandas as pd\n",
    "import sqlite3\n",
    "from sqlite3 import Error\n",
    "import logging\n",
    "import os\n",
    "import pathlib"
   ]
  },
  {
   "cell_type": "code",
   "execution_count": 8,
   "id": "cdff82d9",
   "metadata": {},
   "outputs": [],
   "source": [
    "#all the companies for which we have to do a databse entry\n",
    "company_name=['MSFT','ABB','AAL','AAPL','DELL']"
   ]
  },
  {
   "cell_type": "code",
   "execution_count": 9,
   "id": "5ce59df3",
   "metadata": {},
   "outputs": [],
   "source": [
    "#get the list of uRL's from where we have to fetch data \n",
    "def getURL(arr):\n",
    "    urlList=[]\n",
    "    for company in arr:\n",
    "        url=f\"https://www.alphavantage.co/query?function=TIME_SERIES_DAILY_ADJUSTED\\\n",
    "        &apikey=NQCFKOVGZASY3EZ9&symbol={company}\"\n",
    "        url = url.replace(\" \",\"\") #in case there is any space in URL \n",
    "        urlList.append(url)\n",
    "    return urlList"
   ]
  },
  {
   "cell_type": "code",
   "execution_count": 10,
   "id": "ea8344f4",
   "metadata": {},
   "outputs": [],
   "source": [
    "#imports json from the Restapi \n",
    "def ImportJson(url):\n",
    "    response =urllib.request.urlopen(url)\n",
    "    data=json.loads(response.read()) #converts to python dict \n",
    "    return data"
   ]
  },
  {
   "cell_type": "code",
   "execution_count": 23,
   "id": "ee0fabef",
   "metadata": {},
   "outputs": [],
   "source": [
    "#we have used pathlib as it could easily be used in windows and linux  \n",
    "db_path=pathlib.Path.cwd().joinpath('sqlite','db','consume.db') "
   ]
  },
  {
   "cell_type": "code",
   "execution_count": 25,
   "id": "bd240fd4",
   "metadata": {},
   "outputs": [],
   "source": [
    "def createConnection(db_path):\n",
    "    conn=None\n",
    "    try:\n",
    "        conn=sqlite3.connect(db_path)\n",
    "        return conn\n",
    "    except Error as e:\n",
    "        print(e)"
   ]
  },
  {
   "cell_type": "code",
   "execution_count": 26,
   "id": "4bf0e302",
   "metadata": {},
   "outputs": [],
   "source": [
    "#create table \n",
    "def CreateTable(conn,query):\n",
    "    try:\n",
    "        cursor=conn.cursor()\n",
    "        cursor.execute(query)\n",
    "    except Error as e:\n",
    "        print(e)"
   ]
  },
  {
   "cell_type": "code",
   "execution_count": 27,
   "id": "fc5c179a",
   "metadata": {},
   "outputs": [],
   "source": [
    "#query for creating table and call function accordingly \n",
    "sql_query= \"\"\" CREATE TABLE IF NOT EXISTS shares (\n",
    "                                company_name TEXT NOT NULL,\n",
    "                                dates TEXT NOT NULL,\n",
    "                                Open REAL , \n",
    "                                high  REAL ,\n",
    "                                low  REAL ,\n",
    "                                close  REAL ,\n",
    "                                adjusted_close  REAL ,\n",
    "                                volume REAL ,\n",
    "                                dividend_amount  REAL ,\n",
    "                                split_coefficient  REAL); \"\"\"\n",
    "conn=createConnection(db_path)\n",
    "if conn:\n",
    "    CreateTable(conn,sql_query)\n",
    "    conn.commit()\n",
    "else:\n",
    "    print(\"Error! cannot create the database connection.\")"
   ]
  },
  {
   "cell_type": "code",
   "execution_count": null,
   "id": "0f759d43",
   "metadata": {},
   "outputs": [],
   "source": []
  }
 ],
 "metadata": {
  "kernelspec": {
   "display_name": "Python 3",
   "language": "python",
   "name": "python3"
  },
  "language_info": {
   "codemirror_mode": {
    "name": "ipython",
    "version": 3
   },
   "file_extension": ".py",
   "mimetype": "text/x-python",
   "name": "python",
   "nbconvert_exporter": "python",
   "pygments_lexer": "ipython3",
   "version": "3.9.1"
  }
 },
 "nbformat": 4,
 "nbformat_minor": 5
}
