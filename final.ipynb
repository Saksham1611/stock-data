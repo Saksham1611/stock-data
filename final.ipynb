{
 "cells": [
  {
   "cell_type": "code",
   "execution_count": 9,
   "id": "04665b90",
   "metadata": {},
   "outputs": [],
   "source": [
    "#import libraries\n",
    "import urllib , json , requests\n",
    "import pandas as pd\n",
    "import sqlite3\n",
    "from sqlite3 import Error\n",
    "import logging\n",
    "import os\n",
    "import pathlib"
   ]
  },
  {
   "cell_type": "code",
   "execution_count": 10,
   "id": "5fda6f48",
   "metadata": {},
   "outputs": [],
   "source": [
    "#all the companies for which we have to do a databse entry\n",
    "company_name=['MSFT','ABB','AAL','AAPL','DELL']"
   ]
  },
  {
   "cell_type": "code",
   "execution_count": 11,
   "id": "498760e1",
   "metadata": {},
   "outputs": [],
   "source": [
    "#get the list of uRL's from where we have to fetch data \n",
    "def getURL(arr):\n",
    "    urlList=[]\n",
    "    for company in arr:\n",
    "        url=f\"https://www.alphavantage.co/query?function=TIME_SERIES_DAILY_ADJUSTED\\\n",
    "        &apikey=NQCFKOVGZASY3EZ9&symbol={company}\"\n",
    "        url = url.replace(\" \",\"\") #in case there is any space in URL \n",
    "        urlList.append(url)\n",
    "    return urlList"
   ]
  },
  {
   "cell_type": "code",
   "execution_count": 12,
   "id": "839edf39",
   "metadata": {},
   "outputs": [],
   "source": [
    "#imports json from the Restapi \n",
    "def ImportJson(url):\n",
    "    response =urllib.request.urlopen(url)\n",
    "    data=json.loads(response.read()) #converts to python dict \n",
    "    return data"
   ]
  },
  {
   "cell_type": "code",
   "execution_count": 13,
   "id": "cada771e",
   "metadata": {},
   "outputs": [],
   "source": [
    "#we have used pathlib as it could easily be used in windows and linux  \n",
    "db_path=pathlib.Path.cwd().joinpath('sqlite','db','consume.db') "
   ]
  },
  {
   "cell_type": "code",
   "execution_count": 14,
   "id": "6872b89b",
   "metadata": {},
   "outputs": [],
   "source": [
    "def createConnection(db_path):\n",
    "    conn=None\n",
    "    try:\n",
    "        conn=sqlite3.connect(db_path)\n",
    "        return conn\n",
    "    except Error as e:\n",
    "        print(e)"
   ]
  },
  {
   "cell_type": "code",
   "execution_count": 15,
   "id": "b7391ffe",
   "metadata": {},
   "outputs": [],
   "source": [
    "#create table \n",
    "def CreateTable(conn,query):\n",
    "    try:\n",
    "        cursor=conn.cursor()\n",
    "        cursor.execute(query)\n",
    "    except Error as e:\n",
    "        print(e)"
   ]
  },
  {
   "cell_type": "code",
   "execution_count": 27,
   "id": "6556fe80",
   "metadata": {},
   "outputs": [],
   "source": [
    "#query for creating table and call function accordingly \n",
    "sql_query= \"\"\" CREATE TABLE IF NOT EXISTS shares (\n",
    "                                company_name TEXT NOT NULL,\n",
    "                                dates TEXT NOT NULL,\n",
    "                                Open REAL , \n",
    "                                high  REAL ,\n",
    "                                low  REAL ,\n",
    "                                close  REAL ,\n",
    "                                adjusted_close  REAL ,\n",
    "                                volume REAL ,\n",
    "                                dividend_amount  REAL ,\n",
    "                                split_coefficient  REAL); \"\"\"\n",
    "conn=createConnection(db_path)\n",
    "if conn:\n",
    "    CreateTable(conn,sql_query)\n",
    "    conn.commit()\n",
    "else:\n",
    "    print(\"Error! cannot create the database connection.\")"
   ]
  },
  {
   "cell_type": "code",
   "execution_count": null,
   "id": "c589565d",
   "metadata": {},
   "outputs": [],
   "source": [
    "conn="
   ]
  },
  {
   "cell_type": "code",
   "execution_count": 16,
   "id": "98bb125d",
   "metadata": {},
   "outputs": [],
   "source": [
    "def CreateEntry(conn,company_name):\n",
    "    urlList=getURL(company_name)\n",
    "    for i,url in enumerate(urlList):\n",
    "        company=company_name[i]\n",
    "        data=ImportJson(url)\n",
    "        entries=[]\n",
    "        for item in data['Time Series (Daily)'].items():\n",
    "            cateogary=list(item)\n",
    "            entries.append(cateogary)\n",
    "        #initialize variables\n",
    "        dates=0\n",
    "        Open = 0\n",
    "        high = 0\n",
    "        low = 0\n",
    "        close =0 \n",
    "        adjusted_close =0 \n",
    "        volume=0\n",
    "        dividend_amount = 0\n",
    "        split_coefficient=0\n",
    "        \n",
    "        #insert data rows into shares\n",
    "        for date, d in entries:\n",
    "            dates=date\n",
    "            Open=d['1. open']\n",
    "            high=d['2. high']\n",
    "            low=d['3. low']\n",
    "            close=d['4. close']\n",
    "            adjusted_closed=d['5. adjusted close']\n",
    "            volume=d['6. volume']\n",
    "            dividend_amount=d['7. dividend amount']\n",
    "            split_coefficient=d['8. split coefficient']\n",
    "\n",
    "            cursor.execute(\"INSERT INTO shares VALUES (?,?,?,?,?,?,?,?,?,?)\",(company,dates,Open,high,low,\n",
    "                                                                              close,adjusted_close,volume,\n",
    "                                                                              dividend_amount,split_coefficient))\n",
    "\n",
    "    conn.commit()    "
   ]
  },
  {
   "cell_type": "code",
   "execution_count": 17,
   "id": "04c490e6",
   "metadata": {},
   "outputs": [
    {
     "ename": "NameError",
     "evalue": "name 'conn' is not defined",
     "output_type": "error",
     "traceback": [
      "\u001b[1;31m---------------------------------------------------------------------------\u001b[0m",
      "\u001b[1;31mNameError\u001b[0m                                 Traceback (most recent call last)",
      "\u001b[1;32m<ipython-input-17-fdcdcb086cf4>\u001b[0m in \u001b[0;36m<module>\u001b[1;34m\u001b[0m\n\u001b[1;32m----> 1\u001b[1;33m \u001b[0mCreateEntry\u001b[0m\u001b[1;33m(\u001b[0m\u001b[0mconn\u001b[0m\u001b[1;33m,\u001b[0m\u001b[0mcompany_name\u001b[0m\u001b[1;33m)\u001b[0m\u001b[1;33m\u001b[0m\u001b[1;33m\u001b[0m\u001b[0m\n\u001b[0m",
      "\u001b[1;31mNameError\u001b[0m: name 'conn' is not defined"
     ]
    }
   ],
   "source": [
    "CreateEntry(conn,company_name)"
   ]
  },
  {
   "cell_type": "code",
   "execution_count": null,
   "id": "52f6103e",
   "metadata": {},
   "outputs": [],
   "source": []
  }
 ],
 "metadata": {
  "kernelspec": {
   "display_name": "Python 3",
   "language": "python",
   "name": "python3"
  },
  "language_info": {
   "codemirror_mode": {
    "name": "ipython",
    "version": 3
   },
   "file_extension": ".py",
   "mimetype": "text/x-python",
   "name": "python",
   "nbconvert_exporter": "python",
   "pygments_lexer": "ipython3",
   "version": "3.9.1"
  }
 },
 "nbformat": 4,
 "nbformat_minor": 5
}
