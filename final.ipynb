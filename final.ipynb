{
 "cells": [
  {
   "cell_type": "code",
   "execution_count": 73,
   "id": "04665b90",
   "metadata": {},
   "outputs": [],
   "source": [
    "#import libraries\n",
    "import urllib , json\n",
    "import pandas as pd\n",
    "import sqlite3\n",
    "from sqlite3 import Error\n",
    "import logging\n",
    "import os\n",
    "import pathlib\n",
    "import glob"
   ]
  },
  {
   "cell_type": "code",
   "execution_count": 74,
   "id": "5fda6f48",
   "metadata": {},
   "outputs": [],
   "source": [
    "#all the companies for which we have to do a databse entry\n",
    "company_name=['MSFT','ABB','AAL','AAPL','DELL']"
   ]
  },
  {
   "cell_type": "code",
   "execution_count": 75,
   "id": "498760e1",
   "metadata": {},
   "outputs": [],
   "source": [
    "#get the list of uRL's from where we have to fetch data \n",
    "def getURL(arr):\n",
    "    urlList=[]\n",
    "    for company in arr:\n",
    "        url=f\"https://www.alphavantage.co/query?function=TIME_SERIES_DAILY_ADJUSTED\\\n",
    "        &apikey=NQCFKOVGZASY3EZ9&symbol={company}\"\n",
    "        url = url.replace(\" \",\"\") #in case there is any space in URL \n",
    "        urlList.append(url)\n",
    "    return urlList"
   ]
  },
  {
   "cell_type": "code",
   "execution_count": 76,
   "id": "839edf39",
   "metadata": {},
   "outputs": [],
   "source": [
    "#imports json from the Restapi \n",
    "def ImportJson(url):\n",
    "    response =urllib.request.urlopen(url)\n",
    "    data=json.loads(response.read()) #converts to python dict \n",
    "    return data"
   ]
  },
  {
   "cell_type": "code",
   "execution_count": 89,
   "id": "cada771e",
   "metadata": {},
   "outputs": [],
   "source": [
    "#we have used pathlib as it could easily be used in windows and linux  \n",
    "db_path=pathlib.Path.cwd().joinpath('sqlite','db','consume.db') "
   ]
  },
  {
   "cell_type": "code",
   "execution_count": 78,
   "id": "6872b89b",
   "metadata": {},
   "outputs": [],
   "source": [
    "def createConnection(db_path):\n",
    "    conn=None\n",
    "    try:\n",
    "        conn=sqlite3.connect(db_path)\n",
    "        return conn\n",
    "    except Error as e:\n",
    "        print(e)"
   ]
  },
  {
   "cell_type": "code",
   "execution_count": 79,
   "id": "b7391ffe",
   "metadata": {},
   "outputs": [],
   "source": [
    "#create table \n",
    "def CreateTable(conn,query):\n",
    "    try:\n",
    "        cursor=conn.cursor()\n",
    "        cursor.execute(query)\n",
    "    except Error as e:\n",
    "        print(e)"
   ]
  },
  {
   "cell_type": "code",
   "execution_count": 12,
   "id": "6556fe80",
   "metadata": {},
   "outputs": [],
   "source": [
    "#query for creating table and call function accordingly \n",
    "sql_query= \"\"\" CREATE TABLE IF NOT EXISTS shares (\n",
    "                                company_name TEXT NOT NULL,\n",
    "                                dates TEXT NOT NULL,\n",
    "                                Open REAL , \n",
    "                                high  REAL ,\n",
    "                                low  REAL ,\n",
    "                                close  REAL ,\n",
    "                                adjusted_close  REAL ,\n",
    "                                volume REAL ,\n",
    "                                dividend_amount  REAL ,\n",
    "                                split_coefficient  REAL); \"\"\"\n",
    "conn=createConnection(db_path)\n",
    "if conn:\n",
    "    CreateTable(conn,sql_query)\n",
    "    conn.commit()\n",
    "else:\n",
    "    print(\"Error! cannot create the database connection.\")"
   ]
  },
  {
   "cell_type": "code",
   "execution_count": 80,
   "id": "56921a50",
   "metadata": {},
   "outputs": [],
   "source": [
    "conn=sqlite3.connect(db_path)"
   ]
  },
  {
   "cell_type": "code",
   "execution_count": 81,
   "id": "98bb125d",
   "metadata": {},
   "outputs": [],
   "source": [
    "def CreateEntry(conn,company_name):\n",
    "    urlList=getURL(company_name)\n",
    "    cursor=conn.cursor()\n",
    "    for i,url in enumerate(urlList):\n",
    "        company=company_name[i]\n",
    "        data=ImportJson(url)\n",
    "        entries=[]\n",
    "        for item in data['Time Series (Daily)'].items():\n",
    "            cateogary=list(item)\n",
    "            entries.append(cateogary)\n",
    "        #initialize variables\n",
    "        dates=0\n",
    "        Open = 0\n",
    "        high = 0\n",
    "        low = 0\n",
    "        close =0 \n",
    "        adjusted_close =0 \n",
    "        volume=0\n",
    "        dividend_amount = 0\n",
    "        split_coefficient=0\n",
    "        \n",
    "        #insert data rows into shares\n",
    "        for date, d in entries:\n",
    "            dates=date\n",
    "            Open=d['1. open']\n",
    "            high=d['2. high']\n",
    "            low=d['3. low']\n",
    "            close=d['4. close']\n",
    "            adjusted_closed=d['5. adjusted close']\n",
    "            volume=d['6. volume']\n",
    "            dividend_amount=d['7. dividend amount']\n",
    "            split_coefficient=d['8. split coefficient']\n",
    "\n",
    "            cursor.execute(\"INSERT INTO shares VALUES (?,?,?,?,?,?,?,?,?,?)\",(company,dates,Open,high,low,\n",
    "                                                                              close,adjusted_close,volume,\n",
    "                                                                              dividend_amount,split_coefficient))\n",
    "\n",
    "    conn.commit()    "
   ]
  },
  {
   "cell_type": "code",
   "execution_count": 20,
   "id": "7968a4ff",
   "metadata": {},
   "outputs": [],
   "source": [
    "#create the entries for \n",
    "CreateEntry(conn,company_name)"
   ]
  },
  {
   "cell_type": "code",
   "execution_count": 82,
   "id": "43ce2215",
   "metadata": {},
   "outputs": [],
   "source": [
    "company='\"ABB\"'#of your choice"
   ]
  },
  {
   "cell_type": "markdown",
   "id": "a00dee5b",
   "metadata": {},
   "source": [
    "### Fuctions described in Flask"
   ]
  },
  {
   "cell_type": "code",
   "execution_count": 86,
   "id": "156e826c",
   "metadata": {},
   "outputs": [],
   "source": [
    "def getfeatures(conn,company,filename):\n",
    "    cursor=conn.cursor()\n",
    "    labels=['Open','high','low','close']\n",
    "    query=\"SELECT Open ,high , low , close FROM shares WHERE company_name = \" + company\n",
    "    df =pd.read_sql_query(query,conn)\n",
    "    print(df.head(4))\n",
    "    df.to_csv(filename+'.csv',columns=labels, index=False)\n",
    "    result=cursor.execute(query)\n",
    "    items=[dict(zip([key[0] for key in cursor.description], row)) for row in result]\n",
    "    #dump the dictinary into python \n",
    "    with open(filename +\".json\", \"w\") as outfile: \n",
    "        json.dump(items, outfile,indent=4)\n",
    "    print(\"The files have been saved to your current directory\")"
   ]
  },
  {
   "cell_type": "code",
   "execution_count": 91,
   "id": "eec81c50",
   "metadata": {},
   "outputs": [
    {
     "name": "stdout",
     "output_type": "stream",
     "text": [
      "[(34.6, 34.64, 34.45, 34.49), (33.79, 34.3677, 33.72, 34.3), (34.0, 34.085, 33.7, 33.7), (33.65, 33.95, 33.53, 33.84), (33.36, 33.78, 33.3, 33.74), (33.07, 33.15, 32.8, 32.81), (33.68, 33.78, 33.2, 33.45), (34.64, 34.65, 33.95, 34.06), (34.78, 34.915, 34.735, 34.82), (34.54, 34.63, 34.385, 34.63), (34.6, 34.65, 34.45, 34.55), (34.61, 34.735, 34.55, 34.63), (34.86, 34.87, 34.67, 34.73), (35.11, 35.13, 34.89, 35.03), (35.28, 35.28, 35.04, 35.17), (35.0, 35.135, 34.91, 35.1), (34.6, 34.73, 34.4, 34.63), (34.73, 34.92, 34.65, 34.78), (34.84, 34.87, 34.665, 34.71), (34.07, 34.25, 34.04, 34.14), (33.93, 34.2, 33.92, 34.16), (33.61, 33.82, 33.58, 33.77), (33.83, 33.945, 33.6249, 33.67), (33.54, 33.83, 33.5, 33.75), (33.6, 33.73, 33.45, 33.65), (33.14, 33.4, 33.11, 33.33), (32.81, 33.105, 32.575, 32.94), (34.16, 34.17, 33.83, 33.84), (33.86, 33.9653, 33.683, 33.83), (33.85, 34.32, 33.785, 34.22), (32.74, 33.37, 32.73, 33.26), (33.02, 33.175, 32.511, 32.57), (33.1, 33.42, 32.97, 33.38), (33.86, 33.88, 33.5, 33.51), (33.87, 34.175, 33.73, 34.11), (33.62, 33.78, 33.43, 33.77), (33.46, 33.69, 33.28, 33.51), (32.46, 32.66, 32.295, 32.66), (32.85, 32.9681, 32.81, 32.89), (32.71, 32.85, 32.405, 32.43), (33.37, 33.4, 32.94, 33.24), (33.21, 33.41, 33.175, 33.29), (33.12, 33.19, 32.93, 33.06), (32.65, 32.77, 32.59, 32.75), (32.46, 32.85, 32.435, 32.77), (32.54, 32.56, 32.245, 32.32), (32.28, 32.75, 32.19, 32.74), (32.97, 33.015, 32.455, 32.59), (33.43, 33.44, 33.07, 33.24), (33.27, 33.48, 33.15, 33.38), (32.71, 32.95, 32.59, 32.93), (31.67, 31.8, 31.56, 31.59), (31.57, 31.74, 31.42, 31.7), (31.71, 31.8171, 31.65, 31.77), (31.78, 32.095, 31.77, 32.08), (31.58, 31.6, 31.4, 31.58), (31.31, 31.36, 31.0839, 31.21), (31.24, 31.42, 31.14, 31.16), (30.91, 31.52, 30.74, 31.32), (30.49, 30.71, 30.425, 30.66), (30.41, 30.57, 30.3031, 30.47), (30.09, 30.31, 30.07, 30.22), (30.29, 30.49, 30.19, 30.32), (31.18, 31.59, 31.13, 31.59), (30.68, 31.105, 30.35, 31.08), (30.99, 31.11, 30.825, 30.85), (31.52, 31.66, 31.03, 31.03), (31.41, 31.75, 31.38, 31.56), (30.88, 31.455, 30.74, 31.36), (31.11, 31.3, 30.835, 30.85), (30.73, 31.04, 30.615, 31.02), (31.05, 31.08, 30.84, 30.92), (30.73, 31.165, 30.53, 31.1), (30.53, 30.79, 30.51, 30.79), (30.83, 31.14, 30.735, 30.89), (30.55, 30.765, 30.38, 30.72), (30.19, 30.5999, 30.11, 30.44), (29.93, 30.37, 29.87, 30.0), (29.43, 29.775, 28.93, 29.7), (29.71, 29.785, 28.66, 29.17), (29.62, 29.745, 29.37, 29.42), (29.82, 29.89, 29.54, 29.77), (29.25, 29.5, 29.23, 29.28), (29.1, 29.11, 28.72, 28.78), (29.73, 29.85, 29.18, 29.28), (29.37, 29.75, 29.22, 29.72), (29.01, 29.3, 28.615, 29.29), (29.92, 30.11, 29.77, 29.78), (29.9, 30.34, 29.87, 30.14), (29.51, 29.77, 29.38, 29.68), (29.52, 29.6, 29.19, 29.37), (29.71, 30.02, 29.69, 29.74), (29.27, 29.55, 29.23, 29.52), (29.31, 29.405, 29.02, 29.26), (29.33, 29.38, 28.99, 29.18), (29.22, 29.42, 29.18, 29.34), (29.32, 29.385, 28.9, 29.08), (28.9, 28.99, 28.7, 28.82), (29.11, 29.13, 28.755, 29.02), (30.46, 30.64, 30.385, 30.56)]\n"
     ]
    }
   ],
   "source": [
    "conn=sqlite3.connect(db_path)\n",
    "cursor=conn.cursor()\n",
    "company='\"ABB\"'    \n",
    "query=\"SELECT Open ,high , low , close FROM shares WHERE company_name = \" + company\n",
    "print(cursor.execute(query).fetchall())"
   ]
  },
  {
   "cell_type": "code",
   "execution_count": 92,
   "id": "6c087265",
   "metadata": {},
   "outputs": [],
   "source": [
    "company='\"ABB\"'"
   ]
  },
  {
   "cell_type": "code",
   "execution_count": 95,
   "id": "176492d1",
   "metadata": {},
   "outputs": [
    {
     "name": "stdout",
     "output_type": "stream",
     "text": [
      "DATABE PATH BELOW\n",
      "/home/sakshamgupta/assignment/stock_data_skasham/sqlite/db/consume.db\n",
      "! In am inside the function get feaure\n",
      "[(34.6, 34.64, 34.45, 34.49), (33.79, 34.3677, 33.72, 34.3), (34.0, 34.085, 33.7, 33.7), (33.65, 33.95, 33.53, 33.84), (33.36, 33.78, 33.3, 33.74), (33.07, 33.15, 32.8, 32.81), (33.68, 33.78, 33.2, 33.45), (34.64, 34.65, 33.95, 34.06), (34.78, 34.915, 34.735, 34.82), (34.54, 34.63, 34.385, 34.63), (34.6, 34.65, 34.45, 34.55), (34.61, 34.735, 34.55, 34.63), (34.86, 34.87, 34.67, 34.73), (35.11, 35.13, 34.89, 35.03), (35.28, 35.28, 35.04, 35.17), (35.0, 35.135, 34.91, 35.1), (34.6, 34.73, 34.4, 34.63), (34.73, 34.92, 34.65, 34.78), (34.84, 34.87, 34.665, 34.71), (34.07, 34.25, 34.04, 34.14), (33.93, 34.2, 33.92, 34.16), (33.61, 33.82, 33.58, 33.77), (33.83, 33.945, 33.6249, 33.67), (33.54, 33.83, 33.5, 33.75), (33.6, 33.73, 33.45, 33.65), (33.14, 33.4, 33.11, 33.33), (32.81, 33.105, 32.575, 32.94), (34.16, 34.17, 33.83, 33.84), (33.86, 33.9653, 33.683, 33.83), (33.85, 34.32, 33.785, 34.22), (32.74, 33.37, 32.73, 33.26), (33.02, 33.175, 32.511, 32.57), (33.1, 33.42, 32.97, 33.38), (33.86, 33.88, 33.5, 33.51), (33.87, 34.175, 33.73, 34.11), (33.62, 33.78, 33.43, 33.77), (33.46, 33.69, 33.28, 33.51), (32.46, 32.66, 32.295, 32.66), (32.85, 32.9681, 32.81, 32.89), (32.71, 32.85, 32.405, 32.43), (33.37, 33.4, 32.94, 33.24), (33.21, 33.41, 33.175, 33.29), (33.12, 33.19, 32.93, 33.06), (32.65, 32.77, 32.59, 32.75), (32.46, 32.85, 32.435, 32.77), (32.54, 32.56, 32.245, 32.32), (32.28, 32.75, 32.19, 32.74), (32.97, 33.015, 32.455, 32.59), (33.43, 33.44, 33.07, 33.24), (33.27, 33.48, 33.15, 33.38), (32.71, 32.95, 32.59, 32.93), (31.67, 31.8, 31.56, 31.59), (31.57, 31.74, 31.42, 31.7), (31.71, 31.8171, 31.65, 31.77), (31.78, 32.095, 31.77, 32.08), (31.58, 31.6, 31.4, 31.58), (31.31, 31.36, 31.0839, 31.21), (31.24, 31.42, 31.14, 31.16), (30.91, 31.52, 30.74, 31.32), (30.49, 30.71, 30.425, 30.66), (30.41, 30.57, 30.3031, 30.47), (30.09, 30.31, 30.07, 30.22), (30.29, 30.49, 30.19, 30.32), (31.18, 31.59, 31.13, 31.59), (30.68, 31.105, 30.35, 31.08), (30.99, 31.11, 30.825, 30.85), (31.52, 31.66, 31.03, 31.03), (31.41, 31.75, 31.38, 31.56), (30.88, 31.455, 30.74, 31.36), (31.11, 31.3, 30.835, 30.85), (30.73, 31.04, 30.615, 31.02), (31.05, 31.08, 30.84, 30.92), (30.73, 31.165, 30.53, 31.1), (30.53, 30.79, 30.51, 30.79), (30.83, 31.14, 30.735, 30.89), (30.55, 30.765, 30.38, 30.72), (30.19, 30.5999, 30.11, 30.44), (29.93, 30.37, 29.87, 30.0), (29.43, 29.775, 28.93, 29.7), (29.71, 29.785, 28.66, 29.17), (29.62, 29.745, 29.37, 29.42), (29.82, 29.89, 29.54, 29.77), (29.25, 29.5, 29.23, 29.28), (29.1, 29.11, 28.72, 28.78), (29.73, 29.85, 29.18, 29.28), (29.37, 29.75, 29.22, 29.72), (29.01, 29.3, 28.615, 29.29), (29.92, 30.11, 29.77, 29.78), (29.9, 30.34, 29.87, 30.14), (29.51, 29.77, 29.38, 29.68), (29.52, 29.6, 29.19, 29.37), (29.71, 30.02, 29.69, 29.74), (29.27, 29.55, 29.23, 29.52), (29.31, 29.405, 29.02, 29.26), (29.33, 29.38, 28.99, 29.18), (29.22, 29.42, 29.18, 29.34), (29.32, 29.385, 28.9, 29.08), (28.9, 28.99, 28.7, 28.82), (29.11, 29.13, 28.755, 29.02), (30.46, 30.64, 30.385, 30.56)]\n",
      "    Open     high    low  close\n",
      "0  34.60  34.6400  34.45  34.49\n",
      "1  33.79  34.3677  33.72  34.30\n",
      "2  34.00  34.0850  33.70  33.70\n",
      "3  33.65  33.9500  33.53  33.84\n"
     ]
    },
    {
     "data": {
      "text/plain": [
       "'The files have been saved to your current directory'"
      ]
     },
     "execution_count": 95,
     "metadata": {},
     "output_type": "execute_result"
    }
   ],
   "source": [
    "def getfeatures(company):\n",
    "    # global conn ,cursor\n",
    "    conn=sqlite3.connect(db_path)\n",
    "    cursor=conn.cursor()\n",
    "    query=\"SELECT Open ,high , low , close FROM shares WHERE company_name = \" + company\n",
    "    print(\"DATABE PATH BELOW\")\n",
    "    print(db_path)\n",
    "    print(\"! In am inside the function get feaure\")\n",
    "    print(cursor.execute(query).fetchall())\n",
    "    df =pd.read_sql_query(query,conn)\n",
    "    print(df.head(4))\n",
    "    labels=['Open','high','low','close']\n",
    "    df.to_csv('feature.csv',columns=labels, index=False)\n",
    "    result=cursor.execute(query)\n",
    "    items=[dict(zip([key[0] for key in cursor.description], row)) for row in result]\n",
    "    #dump the dictinary into python \n",
    "    with open('feature.json', \"w\") as outfile: \n",
    "        json.dump(items, outfile,indent=4)\n",
    "    return \"The files have been saved to your current directory\"\n",
    "getfeatures(company)"
   ]
  },
  {
   "cell_type": "code",
   "execution_count": 87,
   "id": "8894e9c9",
   "metadata": {},
   "outputs": [
    {
     "name": "stdout",
     "output_type": "stream",
     "text": [
      "    Open     high    low  close\n",
      "0  34.60  34.6400  34.45  34.49\n",
      "1  33.79  34.3677  33.72  34.30\n",
      "2  34.00  34.0850  33.70  33.70\n",
      "3  33.65  33.9500  33.53  33.84\n",
      "The files have been saved to your current directory\n"
     ]
    }
   ],
   "source": [
    "getfeatures(conn,company,'feature')"
   ]
  },
  {
   "cell_type": "code",
   "execution_count": 58,
   "id": "90fc529f",
   "metadata": {},
   "outputs": [],
   "source": [
    "def getDifference(company,conn):\n",
    "    query=\"SELECT dates , close-Open AS 'DIFFERENCE' FROM shares WHERE company_name=\" + company\n",
    "    df=pd.read_sql_query(query,conn)\n",
    "    return df.head(5)"
   ]
  },
  {
   "cell_type": "code",
   "execution_count": 59,
   "id": "16707808",
   "metadata": {},
   "outputs": [
    {
     "data": {
      "text/html": [
       "<div>\n",
       "<style scoped>\n",
       "    .dataframe tbody tr th:only-of-type {\n",
       "        vertical-align: middle;\n",
       "    }\n",
       "\n",
       "    .dataframe tbody tr th {\n",
       "        vertical-align: top;\n",
       "    }\n",
       "\n",
       "    .dataframe thead th {\n",
       "        text-align: right;\n",
       "    }\n",
       "</style>\n",
       "<table border=\"1\" class=\"dataframe\">\n",
       "  <thead>\n",
       "    <tr style=\"text-align: right;\">\n",
       "      <th></th>\n",
       "      <th>dates</th>\n",
       "      <th>DIFFERENCE</th>\n",
       "    </tr>\n",
       "  </thead>\n",
       "  <tbody>\n",
       "    <tr>\n",
       "      <th>0</th>\n",
       "      <td>2021-06-25</td>\n",
       "      <td>-0.11</td>\n",
       "    </tr>\n",
       "    <tr>\n",
       "      <th>1</th>\n",
       "      <td>2021-06-24</td>\n",
       "      <td>0.51</td>\n",
       "    </tr>\n",
       "    <tr>\n",
       "      <th>2</th>\n",
       "      <td>2021-06-23</td>\n",
       "      <td>-0.30</td>\n",
       "    </tr>\n",
       "    <tr>\n",
       "      <th>3</th>\n",
       "      <td>2021-06-22</td>\n",
       "      <td>0.19</td>\n",
       "    </tr>\n",
       "    <tr>\n",
       "      <th>4</th>\n",
       "      <td>2021-06-21</td>\n",
       "      <td>0.38</td>\n",
       "    </tr>\n",
       "  </tbody>\n",
       "</table>\n",
       "</div>"
      ],
      "text/plain": [
       "        dates  DIFFERENCE\n",
       "0  2021-06-25       -0.11\n",
       "1  2021-06-24        0.51\n",
       "2  2021-06-23       -0.30\n",
       "3  2021-06-22        0.19\n",
       "4  2021-06-21        0.38"
      ]
     },
     "execution_count": 59,
     "metadata": {},
     "output_type": "execute_result"
    }
   ],
   "source": [
    "getDifference(company,conn)"
   ]
  },
  {
   "cell_type": "code",
   "execution_count": 60,
   "id": "973254e1",
   "metadata": {},
   "outputs": [
    {
     "data": {
      "text/html": [
       "<div>\n",
       "<style scoped>\n",
       "    .dataframe tbody tr th:only-of-type {\n",
       "        vertical-align: middle;\n",
       "    }\n",
       "\n",
       "    .dataframe tbody tr th {\n",
       "        vertical-align: top;\n",
       "    }\n",
       "\n",
       "    .dataframe thead th {\n",
       "        text-align: right;\n",
       "    }\n",
       "</style>\n",
       "<table border=\"1\" class=\"dataframe\">\n",
       "  <thead>\n",
       "    <tr style=\"text-align: right;\">\n",
       "      <th></th>\n",
       "      <th>dates</th>\n",
       "      <th>AVG</th>\n",
       "    </tr>\n",
       "  </thead>\n",
       "  <tbody>\n",
       "    <tr>\n",
       "      <th>0</th>\n",
       "      <td>2021-02-03</td>\n",
       "      <td>0.740</td>\n",
       "    </tr>\n",
       "    <tr>\n",
       "      <th>1</th>\n",
       "      <td>2021-02-04</td>\n",
       "      <td>0.283</td>\n",
       "    </tr>\n",
       "    <tr>\n",
       "      <th>2</th>\n",
       "      <td>2021-02-05</td>\n",
       "      <td>-0.200</td>\n",
       "    </tr>\n",
       "    <tr>\n",
       "      <th>3</th>\n",
       "      <td>2021-02-08</td>\n",
       "      <td>0.070</td>\n",
       "    </tr>\n",
       "    <tr>\n",
       "      <th>4</th>\n",
       "      <td>2021-02-09</td>\n",
       "      <td>0.281</td>\n",
       "    </tr>\n",
       "  </tbody>\n",
       "</table>\n",
       "</div>"
      ],
      "text/plain": [
       "        dates    AVG\n",
       "0  2021-02-03  0.740\n",
       "1  2021-02-04  0.283\n",
       "2  2021-02-05 -0.200\n",
       "3  2021-02-08  0.070\n",
       "4  2021-02-09  0.281"
      ]
     },
     "execution_count": 60,
     "metadata": {},
     "output_type": "execute_result"
    }
   ],
   "source": [
    "def getAverage(conn):\n",
    "    query=\"SELECT dates ,avg(close-Open) AS 'AVG' FROM shares GROUP BY dates\"\n",
    "    df=pd.read_sql_query(query,conn)\n",
    "    return df.head(5)\n",
    "getAverage(conn)"
   ]
  },
  {
   "cell_type": "code",
   "execution_count": 62,
   "id": "d2deb924",
   "metadata": {},
   "outputs": [],
   "source": [
    "def MaximumCount(conn,company):\n",
    "    cursor=conn.cursor()\n",
    "    query=\"SELECT Open , close FROM shares WHERE company_name=\" + company\n",
    "    res=cursor.execute(query)\n",
    "    temp=[dict(zip([key[0] for key in cursor.description],row) for row in res)]\n",
    "    return getMax(temp)"
   ]
  },
  {
   "cell_type": "code",
   "execution_count": 63,
   "id": "47f12a71",
   "metadata": {},
   "outputs": [],
   "source": [
    "def getMax(temp):\n",
    "    Max=0\n",
    "    currMax=0\n",
    "    for key in temp:\n",
    "        for op,cl in key.items():\n",
    "            if op[1]>cl[1]:\n",
    "                Max=max(Max,currMax)\n",
    "                currMax=0\n",
    "            else:\n",
    "                currMax+=1\n",
    "    return f\"The number of continuous records having a positive diff are {Max}\""
   ]
  },
  {
   "cell_type": "code",
   "execution_count": 64,
   "id": "91b217a4",
   "metadata": {},
   "outputs": [
    {
     "data": {
      "text/plain": [
       "'The number of continuous records are 7'"
      ]
     },
     "execution_count": 64,
     "metadata": {},
     "output_type": "execute_result"
    }
   ],
   "source": [
    "MaximumCount(conn,company)"
   ]
  },
  {
   "cell_type": "code",
   "execution_count": null,
   "id": "05118a52",
   "metadata": {},
   "outputs": [],
   "source": []
  }
 ],
 "metadata": {
  "kernelspec": {
   "display_name": "Python 3",
   "language": "python",
   "name": "python3"
  },
  "language_info": {
   "codemirror_mode": {
    "name": "ipython",
    "version": 3
   },
   "file_extension": ".py",
   "mimetype": "text/x-python",
   "name": "python",
   "nbconvert_exporter": "python",
   "pygments_lexer": "ipython3",
   "version": "3.8.5"
  }
 },
 "nbformat": 4,
 "nbformat_minor": 5
}
