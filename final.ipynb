{
 "cells": [
  {
   "cell_type": "code",
   "execution_count": 7,
   "id": "ec98894a",
   "metadata": {},
   "outputs": [],
   "source": [
    "#import libraries\n",
    "import urllib , json , requests\n",
    "import pandas as pd\n",
    "import sqlite3\n",
    "from sqlite3 import Error\n",
    "import logging"
   ]
  },
  {
   "cell_type": "code",
   "execution_count": 8,
   "id": "b6048e9d",
   "metadata": {},
   "outputs": [],
   "source": [
    "#all the companies for which we have to do a databse entry\n",
    "company_name=['MSFT','ABB','AAL','AAPL','DELL']"
   ]
  },
  {
   "cell_type": "code",
   "execution_count": 9,
   "id": "771c50ea",
   "metadata": {},
   "outputs": [],
   "source": [
    "#get the list of uRL's from where we have to fetch data \n",
    "def getURL(arr):\n",
    "    urlList=[]\n",
    "    for company in arr:\n",
    "        url=f\"https://www.alphavantage.co/query?function=TIME_SERIES_DAILY_ADJUSTED\\\n",
    "        &apikey=NQCFKOVGZASY3EZ9&symbol={company}\"\n",
    "        url = url.replace(\" \",\"\") #in case there is any space in URL \n",
    "        urlList.append(url)\n",
    "    return urlList"
   ]
  },
  {
   "cell_type": "code",
   "execution_count": 10,
   "id": "73157037",
   "metadata": {},
   "outputs": [],
   "source": [
    "#imports json from the Restapi \n",
    "def ImportJson(url):\n",
    "    response =urllib.request.urlopen(url)\n",
    "    data=json.loads(response.read()) #converts to python dict \n",
    "    return data"
   ]
  },
  {
   "cell_type": "code",
   "execution_count": null,
   "id": "a885e85f",
   "metadata": {},
   "outputs": [],
   "source": [
    "#create table \n",
    "def CreateTable(conn,query):\n",
    "    try:\n",
    "        conn=con\n",
    "    "
   ]
  }
 ],
 "metadata": {
  "kernelspec": {
   "display_name": "Python 3",
   "language": "python",
   "name": "python3"
  },
  "language_info": {
   "codemirror_mode": {
    "name": "ipython",
    "version": 3
   },
   "file_extension": ".py",
   "mimetype": "text/x-python",
   "name": "python",
   "nbconvert_exporter": "python",
   "pygments_lexer": "ipython3",
   "version": "3.9.1"
  }
 },
 "nbformat": 4,
 "nbformat_minor": 5
}
