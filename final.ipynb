{
 "cells": [
  {
   "cell_type": "code",
   "execution_count": 5,
   "id": "04665b90",
   "metadata": {},
   "outputs": [],
   "source": [
    "#import libraries\n",
    "import urllib , json\n",
    "import pandas as pd\n",
    "import sqlite3\n",
    "from sqlite3 import Error\n",
    "import logging\n",
    "import os\n",
    "import pathlib\n",
    "import glob"
   ]
  },
  {
   "cell_type": "code",
   "execution_count": 6,
   "id": "5fda6f48",
   "metadata": {},
   "outputs": [],
   "source": [
    "#all the companies for which we have to do a databse entry\n",
    "company_name=['MSFT','ABB','AAL','AAPL','DELL']"
   ]
  },
  {
   "cell_type": "code",
   "execution_count": 7,
   "id": "498760e1",
   "metadata": {},
   "outputs": [],
   "source": [
    "#get the list of uRL's from where we have to fetch data \n",
    "def getURL(arr):\n",
    "    urlList=[]\n",
    "    for company in arr:\n",
    "        url=f\"https://www.alphavantage.co/query?function=TIME_SERIES_DAILY_ADJUSTED\\\n",
    "        &apikey=NQCFKOVGZASY3EZ9&symbol={company}\"\n",
    "        url = url.replace(\" \",\"\") #in case there is any space in URL \n",
    "        urlList.append(url)\n",
    "    return urlList"
   ]
  },
  {
   "cell_type": "code",
   "execution_count": 8,
   "id": "839edf39",
   "metadata": {},
   "outputs": [],
   "source": [
    "#imports json from the Restapi \n",
    "def ImportJson(url):\n",
    "    response =urllib.request.urlopen(url)\n",
    "    data=json.loads(response.read()) #converts to python dict \n",
    "    return data"
   ]
  },
  {
   "cell_type": "code",
   "execution_count": 9,
   "id": "cada771e",
   "metadata": {},
   "outputs": [],
   "source": [
    "#we have used pathlib as it could easily be used in windows and linux  \n",
    "db_path=pathlib.Path.cwd().joinpath('sqlite','db','consume.db') "
   ]
  },
  {
   "cell_type": "code",
   "execution_count": 10,
   "id": "6872b89b",
   "metadata": {},
   "outputs": [],
   "source": [
    "def createConnection(db_path):\n",
    "    conn=None\n",
    "    try:\n",
    "        conn=sqlite3.connect(db_path)\n",
    "        return conn\n",
    "    except Error as e:\n",
    "        print(e)"
   ]
  },
  {
   "cell_type": "code",
   "execution_count": 11,
   "id": "b7391ffe",
   "metadata": {},
   "outputs": [],
   "source": [
    "#create table \n",
    "def CreateTable(conn,query):\n",
    "    try:\n",
    "        cursor=conn.cursor()\n",
    "        cursor.execute(query)\n",
    "    except Error as e:\n",
    "        print(e)"
   ]
  },
  {
   "cell_type": "code",
   "execution_count": 12,
   "id": "6556fe80",
   "metadata": {},
   "outputs": [],
   "source": [
    "#query for creating table and call function accordingly \n",
    "sql_query= \"\"\" CREATE TABLE IF NOT EXISTS shares (\n",
    "                                company_name TEXT NOT NULL,\n",
    "                                dates TEXT NOT NULL,\n",
    "                                Open REAL , \n",
    "                                high  REAL ,\n",
    "                                low  REAL ,\n",
    "                                close  REAL ,\n",
    "                                adjusted_close  REAL ,\n",
    "                                volume REAL ,\n",
    "                                dividend_amount  REAL ,\n",
    "                                split_coefficient  REAL); \"\"\"\n",
    "conn=createConnection(db_path)\n",
    "if conn:\n",
    "    CreateTable(conn,sql_query)\n",
    "    conn.commit()\n",
    "else:\n",
    "    print(\"Error! cannot create the database connection.\")"
   ]
  },
  {
   "cell_type": "code",
   "execution_count": 13,
   "id": "56921a50",
   "metadata": {},
   "outputs": [],
   "source": [
    "conn=sqlite3.connect(db_path)"
   ]
  },
  {
   "cell_type": "code",
   "execution_count": 14,
   "id": "98bb125d",
   "metadata": {},
   "outputs": [],
   "source": [
    "def CreateEntry(conn,company_name):\n",
    "    urlList=getURL(company_name)\n",
    "    cursor=conn.cursor()\n",
    "    for i,url in enumerate(urlList):\n",
    "        company=company_name[i]\n",
    "        data=ImportJson(url)\n",
    "        entries=[]\n",
    "        for item in data['Time Series (Daily)'].items():\n",
    "            cateogary=list(item)\n",
    "            entries.append(cateogary)\n",
    "        #initialize variables\n",
    "        dates=0\n",
    "        Open = 0\n",
    "        high = 0\n",
    "        low = 0\n",
    "        close =0 \n",
    "        adjusted_close =0 \n",
    "        volume=0\n",
    "        dividend_amount = 0\n",
    "        split_coefficient=0\n",
    "        \n",
    "        #insert data rows into shares\n",
    "        for date, d in entries:\n",
    "            dates=date\n",
    "            Open=d['1. open']\n",
    "            high=d['2. high']\n",
    "            low=d['3. low']\n",
    "            close=d['4. close']\n",
    "            adjusted_closed=d['5. adjusted close']\n",
    "            volume=d['6. volume']\n",
    "            dividend_amount=d['7. dividend amount']\n",
    "            split_coefficient=d['8. split coefficient']\n",
    "\n",
    "            cursor.execute(\"INSERT INTO shares VALUES (?,?,?,?,?,?,?,?,?,?)\",(company,dates,Open,high,low,\n",
    "                                                                              close,adjusted_close,volume,\n",
    "                                                                              dividend_amount,split_coefficient))\n",
    "\n",
    "    conn.commit()    "
   ]
  },
  {
   "cell_type": "code",
   "execution_count": 20,
   "id": "7968a4ff",
   "metadata": {},
   "outputs": [],
   "source": [
    "#create the entries for \n",
    "CreateEntry(conn,company_name)"
   ]
  },
  {
   "cell_type": "code",
   "execution_count": 57,
   "id": "7dfad83a",
   "metadata": {},
   "outputs": [],
   "source": [
    "company='\"ABB\"'#of your choice"
   ]
  },
  {
   "cell_type": "markdown",
   "id": "4dd469fd",
   "metadata": {},
   "source": [
    "### Fuctions described in Flask"
   ]
  },
  {
   "cell_type": "code",
   "execution_count": 54,
   "id": "156e826c",
   "metadata": {},
   "outputs": [],
   "source": [
    "def getfeatures(conn,company,filename):\n",
    "    cursor=conn.cursor()\n",
    "    labels=['Open','high','low','close']\n",
    "    query=\"SELECT Open ,high , low , close FROM shares WHERE company_name = \" + company\n",
    "    df =pd.read_sql_query(query,conn)\n",
    "    df.to_csv(filename+'.csv',columns=labels, index=False)\n",
    "    result=cursor.execute(query)\n",
    "    items=[dict(zip([key[0] for key in cursor.description], row)) for row in result]\n",
    "    #dump the dictinary into python \n",
    "    with open(filename +\".json\", \"w\") as outfile: \n",
    "        json.dump(items, outfile,indent=4)\n",
    "    print(\"The files have been saved to your current directory\")"
   ]
  },
  {
   "cell_type": "code",
   "execution_count": 55,
   "id": "db27ab43",
   "metadata": {},
   "outputs": [
    {
     "name": "stdout",
     "output_type": "stream",
     "text": [
      "The files have been saved to your current directory\n"
     ]
    }
   ],
   "source": [
    "getfeatures(conn,company,'feature')"
   ]
  },
  {
   "cell_type": "code",
   "execution_count": 58,
   "id": "e7e57240",
   "metadata": {},
   "outputs": [],
   "source": [
    "def getDifference(company,conn):\n",
    "    query=\"SELECT dates , close-Open AS 'DIFFERENCE' FROM shares WHERE company_name=\" + company\n",
    "    df=pd.read_sql_query(query,conn)\n",
    "    return df.head(5)"
   ]
  },
  {
   "cell_type": "code",
   "execution_count": 59,
   "id": "b740aa09",
   "metadata": {},
   "outputs": [
    {
     "data": {
      "text/html": [
       "<div>\n",
       "<style scoped>\n",
       "    .dataframe tbody tr th:only-of-type {\n",
       "        vertical-align: middle;\n",
       "    }\n",
       "\n",
       "    .dataframe tbody tr th {\n",
       "        vertical-align: top;\n",
       "    }\n",
       "\n",
       "    .dataframe thead th {\n",
       "        text-align: right;\n",
       "    }\n",
       "</style>\n",
       "<table border=\"1\" class=\"dataframe\">\n",
       "  <thead>\n",
       "    <tr style=\"text-align: right;\">\n",
       "      <th></th>\n",
       "      <th>dates</th>\n",
       "      <th>DIFFERENCE</th>\n",
       "    </tr>\n",
       "  </thead>\n",
       "  <tbody>\n",
       "    <tr>\n",
       "      <th>0</th>\n",
       "      <td>2021-06-25</td>\n",
       "      <td>-0.11</td>\n",
       "    </tr>\n",
       "    <tr>\n",
       "      <th>1</th>\n",
       "      <td>2021-06-24</td>\n",
       "      <td>0.51</td>\n",
       "    </tr>\n",
       "    <tr>\n",
       "      <th>2</th>\n",
       "      <td>2021-06-23</td>\n",
       "      <td>-0.30</td>\n",
       "    </tr>\n",
       "    <tr>\n",
       "      <th>3</th>\n",
       "      <td>2021-06-22</td>\n",
       "      <td>0.19</td>\n",
       "    </tr>\n",
       "    <tr>\n",
       "      <th>4</th>\n",
       "      <td>2021-06-21</td>\n",
       "      <td>0.38</td>\n",
       "    </tr>\n",
       "  </tbody>\n",
       "</table>\n",
       "</div>"
      ],
      "text/plain": [
       "        dates  DIFFERENCE\n",
       "0  2021-06-25       -0.11\n",
       "1  2021-06-24        0.51\n",
       "2  2021-06-23       -0.30\n",
       "3  2021-06-22        0.19\n",
       "4  2021-06-21        0.38"
      ]
     },
     "execution_count": 59,
     "metadata": {},
     "output_type": "execute_result"
    }
   ],
   "source": [
    "getDifference(company,conn)"
   ]
  },
  {
   "cell_type": "code",
   "execution_count": 60,
   "id": "a967c9e9",
   "metadata": {},
   "outputs": [
    {
     "data": {
      "text/html": [
       "<div>\n",
       "<style scoped>\n",
       "    .dataframe tbody tr th:only-of-type {\n",
       "        vertical-align: middle;\n",
       "    }\n",
       "\n",
       "    .dataframe tbody tr th {\n",
       "        vertical-align: top;\n",
       "    }\n",
       "\n",
       "    .dataframe thead th {\n",
       "        text-align: right;\n",
       "    }\n",
       "</style>\n",
       "<table border=\"1\" class=\"dataframe\">\n",
       "  <thead>\n",
       "    <tr style=\"text-align: right;\">\n",
       "      <th></th>\n",
       "      <th>dates</th>\n",
       "      <th>AVG</th>\n",
       "    </tr>\n",
       "  </thead>\n",
       "  <tbody>\n",
       "    <tr>\n",
       "      <th>0</th>\n",
       "      <td>2021-02-03</td>\n",
       "      <td>0.740</td>\n",
       "    </tr>\n",
       "    <tr>\n",
       "      <th>1</th>\n",
       "      <td>2021-02-04</td>\n",
       "      <td>0.283</td>\n",
       "    </tr>\n",
       "    <tr>\n",
       "      <th>2</th>\n",
       "      <td>2021-02-05</td>\n",
       "      <td>-0.200</td>\n",
       "    </tr>\n",
       "    <tr>\n",
       "      <th>3</th>\n",
       "      <td>2021-02-08</td>\n",
       "      <td>0.070</td>\n",
       "    </tr>\n",
       "    <tr>\n",
       "      <th>4</th>\n",
       "      <td>2021-02-09</td>\n",
       "      <td>0.281</td>\n",
       "    </tr>\n",
       "  </tbody>\n",
       "</table>\n",
       "</div>"
      ],
      "text/plain": [
       "        dates    AVG\n",
       "0  2021-02-03  0.740\n",
       "1  2021-02-04  0.283\n",
       "2  2021-02-05 -0.200\n",
       "3  2021-02-08  0.070\n",
       "4  2021-02-09  0.281"
      ]
     },
     "execution_count": 60,
     "metadata": {},
     "output_type": "execute_result"
    }
   ],
   "source": [
    "def getAverage(conn):\n",
    "    query=\"SELECT dates ,avg(close-Open) AS 'AVG' FROM shares GROUP BY dates\"\n",
    "    df=pd.read_sql_query(query,conn)\n",
    "    return df.head(5)\n",
    "getAverage(conn)"
   ]
  },
  {
   "cell_type": "code",
   "execution_count": 62,
   "id": "13a8251c",
   "metadata": {},
   "outputs": [],
   "source": [
    "def MaximumCount(conn,company):\n",
    "    cursor=conn.cursor()\n",
    "    query=\"SELECT Open , close FROM shares WHERE company_name=\" + company\n",
    "    res=cursor.execute(query)\n",
    "    temp=[dict(zip([key[0] for key in cursor.description],row) for row in res)]\n",
    "    return getMax(temp)"
   ]
  },
  {
   "cell_type": "code",
   "execution_count": 63,
   "id": "6f43af1a",
   "metadata": {},
   "outputs": [],
   "source": [
    "def getMax(temp):\n",
    "    Max=0\n",
    "    currMax=0\n",
    "    for key in temp:\n",
    "        for op,cl in key.items():\n",
    "            if op[1]>cl[1]:\n",
    "                Max=max(Max,currMax)\n",
    "                currMax=0\n",
    "            else:\n",
    "                currMax+=1\n",
    "    return f\"The number of continuous records having a positive diff are {Max}\""
   ]
  },
  {
   "cell_type": "code",
   "execution_count": 64,
   "id": "ffcd7257",
   "metadata": {},
   "outputs": [
    {
     "data": {
      "text/plain": [
       "'The number of continuous records are 7'"
      ]
     },
     "execution_count": 64,
     "metadata": {},
     "output_type": "execute_result"
    }
   ],
   "source": [
    "MaximumCount(conn,company)"
   ]
  },
  {
   "cell_type": "code",
   "execution_count": null,
   "id": "b22bc60d",
   "metadata": {},
   "outputs": [],
   "source": []
  }
 ],
 "metadata": {
  "kernelspec": {
   "display_name": "Python 3",
   "language": "python",
   "name": "python3"
  },
  "language_info": {
   "codemirror_mode": {
    "name": "ipython",
    "version": 3
   },
   "file_extension": ".py",
   "mimetype": "text/x-python",
   "name": "python",
   "nbconvert_exporter": "python",
   "pygments_lexer": "ipython3",
   "version": "3.8.5"
  }
 },
 "nbformat": 4,
 "nbformat_minor": 5
}
